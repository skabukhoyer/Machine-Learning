{
  "cells": [
    {
      "cell_type": "markdown",
      "id": "improving-pepper",
      "metadata": {
        "id": "improving-pepper"
      },
      "source": [
        "# Assignment 2 - Question 2\n",
        "The objective of this assignment is to get you familiarize with  the  problem  of  `Linear Regression`.\n",
        "\n",
        "## Instructions\n",
        "- Write your code and analysis in the indicated cells.\n",
        "- Ensure that this notebook runs without errors when the cells are run in sequence.\n",
        "- Do not attempt to change the contents of other cells.\n",
        "- No inbuilt functions to be used until specified\n",
        "\n",
        "## Submission\n",
        "- Ensure that this notebook runs without errors when the cells are run in sequence.\n",
        "- Rename the notebook to `<roll_number>_Assignment2_Q2.ipynb`."
      ]
    },
    {
      "cell_type": "markdown",
      "id": "final-transaction",
      "metadata": {
        "id": "final-transaction"
      },
      "source": [
        "## 2.0 Background about the dataset\n",
        "\n",
        "TLDR: You have 4 independent variables (`float`) for each molecule. You can use a linear combination of these 4 independent variables to predict the bandgap (dependent variable) of each molecule.\n",
        "\n",
        "You can read more about the problem in [Li et al, Bandgap tuning strategy by cations and halide ions of lead halide perovskites learned from machine learning, RSC Adv., 2021,11, 15688-15694](https://doi.org/10.1039/D1RA03117A)."
      ]
    },
    {
      "cell_type": "code",
      "execution_count": 10,
      "id": "lyric-olympus",
      "metadata": {
        "id": "lyric-olympus"
      },
      "outputs": [],
      "source": [
        "import csv\n",
        "import random\n",
        "import numpy as np"
      ]
    },
    {
      "cell_type": "code",
      "execution_count": 11,
      "id": "hundred-receipt",
      "metadata": {
        "id": "hundred-receipt"
      },
      "outputs": [],
      "source": [
        "all_molecules = list()\n",
        "\n",
        "with open('bg_data.txt', 'r') as infile:\n",
        "    input_rows = csv.DictReader(infile)\n",
        "    \n",
        "    for row in input_rows:\n",
        "        current_mol = ([float(row['Cs']), float(row['FA']), float(row['Cl']), float(row['Br'])], float(row['Bandgap']))\n",
        "        all_molecules.append(current_mol)\n",
        "\n",
        "random.shuffle(all_molecules)\n",
        "\n",
        "\n",
        "num_train = int(len(all_molecules) * 0.8)\n",
        "\n",
        "# each point in x_train has 4 values - 1 for each feature\n",
        "x_train = [x[0] for x in all_molecules[:num_train]]\n",
        "# each point in y_train has 1 value - the bandgap of the molecule\n",
        "y_train = [x[1] for x in all_molecules[:num_train]]\n",
        "\n",
        "x_test = [x[0] for x in all_molecules[num_train:]]\n",
        "y_test = [x[1] for x in all_molecules[num_train:]]"
      ]
    },
    {
      "cell_type": "markdown",
      "id": "square-direction",
      "metadata": {
        "id": "square-direction"
      },
      "source": [
        "### 2.1 Implement a Linear Regression model that minimizes the MSE **without using any libraries**. You may use NumPy to vectorize your code, but *do not use numpy.polyfit* or anything similar.\n",
        "\n",
        "2.1.1 Explain how you plan to implement Linear Regression in 5-10 lines."
      ]
    },
    {
      "cell_type": "markdown",
      "id": "frozen-forth",
      "metadata": {
        "id": "frozen-forth"
      },
      "source": [
        "<!-- your answer to 1.1.1 -->The complete implementation of linear regression with gradient descent "
      ]
    },
    {
      "cell_type": "markdown",
      "id": "addressed-winter",
      "metadata": {
        "id": "addressed-winter"
      },
      "source": [
        "2.1.2 Implement Linear Regression using `x_train` and `y_train` as the train dataset.\n",
        "\n",
        "2.1.2.1 Choose the best learning rate and print the learning rate for which you achieved the best MSE."
      ]
    },
    {
      "cell_type": "code",
      "execution_count": 12,
      "id": "angry-depression",
      "metadata": {
        "id": "angry-depression",
        "colab": {
          "base_uri": "https://localhost:8080/"
        },
        "outputId": "b27d3204-2d19-4051-9dcb-f2fcdfce3fe7"
      },
      "outputs": [
        {
          "output_type": "stream",
          "name": "stdout",
          "text": [
            "0.051111291413803356\n"
          ]
        }
      ],
      "source": [
        "# implement Linear Regression\n",
        "def linearRegression(alpha,n_iterations,x_train,y_train):\n",
        "  # cost_ = []\n",
        "  x_train = np.array(x_train)\n",
        "  y_train = np.array(y_train)\n",
        "  w = np.zeros(x_train.shape[1])\n",
        "  m = x_train.shape[0]\n",
        "  w0 = 0\n",
        "  for _ in range(n_iterations):\n",
        "    y_pred = np.dot(x_train, w) + w0\n",
        "    residuals = y_pred - y_train\n",
        "    gradient_vector = np.dot(x_train.T, residuals)\n",
        "    w -= (alpha / m) * (gradient_vector)\n",
        "    w0 -= (alpha / m) *(np.sum(residuals))\n",
        "   \n",
        "  return w,w0\n",
        "\n",
        "w,w0 = linearRegression(0.01,30000,x_train,y_train)\n",
        "y_pred = np.dot(x_test,w) + w0\n",
        "residuals = y_pred - y_test\n",
        "m = len(x_test)\n",
        "cost = np.sum((residuals**2))/(2*m)\n",
        "print(np.sqrt(cost))"
      ]
    },
    {
      "cell_type": "markdown",
      "id": "angry-tampa",
      "metadata": {
        "id": "angry-tampa"
      },
      "source": [
        "2.1.3 Make a [Parity Plot](https://en.wikipedia.org/wiki/Parity_plot) of your model's bandgap predictions on the test set with the actual values."
      ]
    },
    {
      "cell_type": "code",
      "execution_count": 13,
      "id": "foster-center",
      "metadata": {
        "id": "foster-center",
        "outputId": "e49e089b-9cfb-4e1e-c5c7-3e6469ab9175",
        "colab": {
          "base_uri": "https://localhost:8080/",
          "height": 636
        }
      },
      "outputs": [
        {
          "output_type": "display_data",
          "data": {
            "image/png": "[encoded data removed]",
            "text/plain": [
              "<Figure size 720x1440 with 1 Axes>"
            ]
          },
          "metadata": {
            "needs_background": "light"
          }
        }
      ],
      "source": [
        "# Get the predictions of x_test into `y_pred`\n",
        "\n",
        "#\n",
        "# ...\n",
        "#\n",
        "\n",
        "import matplotlib.pyplot as plt\n",
        "fig, ax = plt.subplots(figsize=(10,20))\n",
        "\n",
        "ax.scatter(y_test, y_pred)\n",
        "\n",
        "lims = [\n",
        "    np.min([ax.get_xlim(), ax.get_ylim()]),\n",
        "    np.max([ax.get_xlim(), ax.get_ylim()]),\n",
        "]\n",
        "ax.plot(lims, lims, 'k-', alpha=0.75, zorder=0)\n",
        "ax.set_aspect('equal')\n",
        "ax.set_xlim(lims)\n",
        "ax.set_ylim(lims)\n",
        "\n",
        "ax.set_title('Parity Plot of Custom Linear Regression')\n",
        "ax.set_xlabel('Ground truth bandgap values')\n",
        "ax.set_ylabel('Predicted bandgap values')\n",
        "plt.show()"
      ]
    },
    {
      "cell_type": "markdown",
      "id": "dominant-chaos",
      "metadata": {
        "id": "dominant-chaos"
      },
      "source": [
        "### 2.2 Implement Ridge regression\n",
        "2.2.1 Explain Ridge regression briefly in 1-2 lines."
      ]
    },
    {
      "cell_type": "markdown",
      "id": "happy-cyprus",
      "metadata": {
        "id": "happy-cyprus"
      },
      "source": [
        "<!-- Your answer to 1.2.1 --> ridge regression performs Performs L2 regularization, i.e. adds penalty equivalent to square of the magnitude of coefficients\n",
        "Minimization objective = LS Obj + α * (sum of square of coefficients)\n"
      ]
    },
    {
      "cell_type": "markdown",
      "id": "tight-forwarding",
      "metadata": {
        "id": "tight-forwarding"
      },
      "source": [
        "2.2.2 Implement Ridge regression and make a table of different RMSE scores you achieved with different values of alpha. What does the parameter `alpha` do? How does it affect the results here? Explain in 5-10 lines in total. (You can use scikit-learn from this cell onwards)"
      ]
    },
    {
      "cell_type": "markdown",
      "source": [
        "Objective = RSS + α * (sum of square of coefficients)\n",
        "Here, α (alpha) is the parameter which balances the amount of emphasis given to minimizing RSS vs minimizing sum of square of coefficients. α can take various values:\n",
        "\n",
        "α = 0:\n",
        "The objective becomes same as simple linear regression.\n",
        "We’ll get the same coefficients as simple linear regression.\n",
        "  \n",
        "α = ∞:\n",
        "The coefficients will be zero. Why? Because of infinite weightage on square of coefficients, anything less than zero will make the objective infinite.\n",
        "  \n",
        "0 < α < ∞:\n",
        "The magnitude of α will decide the weightage given to different parts of objective.\n",
        "The coefficients will be somewhere between 0 and ones for simple linear regression."
      ],
      "metadata": {
        "id": "mL8Ys68DZCXP"
      },
      "id": "mL8Ys68DZCXP"
    },
    {
      "cell_type": "code",
      "execution_count": 14,
      "id": "violent-northern",
      "metadata": {
        "id": "violent-northern",
        "colab": {
          "base_uri": "https://localhost:8080/"
        },
        "outputId": "bc4b0b32-0b35-43a4-e519-fddddd97e03b"
      },
      "outputs": [
        {
          "output_type": "stream",
          "name": "stdout",
          "text": [
            "+---------+-----------+\n",
            "|   alpha |      RMSE |\n",
            "+=========+===========+\n",
            "|  0.0001 | 0.0722816 |\n",
            "+---------+-----------+\n",
            "|  0.001  | 0.0722781 |\n",
            "+---------+-----------+\n",
            "|  0.002  | 0.0722745 |\n",
            "+---------+-----------+\n",
            "|  0.01   | 0.0722544 |\n",
            "+---------+-----------+\n",
            "|  0.06   | 0.0724701 |\n",
            "+---------+-----------+\n",
            "|  0.1    | 0.0730362 |\n",
            "+---------+-----------+\n",
            "|  0.5    | 0.0905751 |\n",
            "+---------+-----------+\n"
          ]
        }
      ],
      "source": [
        "# you should not have imported sklearn before this point\n",
        "import sklearn\n",
        "from sklearn.linear_model import LinearRegression, Ridge\n",
        "from sklearn.metrics import r2_score, mean_squared_error\n",
        "alphas = [0.0001,0.001, 0.002, 0.01, 0.06, 0.1,0.5]\n",
        "rmse = list()\n",
        "for a in alphas:\n",
        "  ridgeModel = Ridge(alpha=a)\n",
        "  ridgeModel.fit(x_train,y_train)\n",
        "  y_pred = ridgeModel.predict(x_test)\n",
        "  rmse.append(np.sqrt(mean_squared_error(y_test,y_pred)))\n",
        "\n",
        "from tabulate import tabulate\n",
        "\n",
        "# assign data\n",
        "mydata = list()\n",
        "for a,rm in zip(alphas,rmse):\n",
        "  mydata.append((a,rm))\n",
        "# create header\n",
        "head = [\"alpha\", \"RMSE\"]\n",
        "  \n",
        "# display table\n",
        "print(tabulate(mydata, headers=head, tablefmt=\"grid\"))\n",
        "\n",
        "\n",
        "# implement Ridge regression and make a table where you explore the effect of different values of `alpha`"
      ]
    },
    {
      "cell_type": "markdown",
      "id": "adolescent-temperature",
      "metadata": {
        "id": "adolescent-temperature"
      },
      "source": [
        "### 2.3 Implement Lasso regression\n",
        "2.3.1 Explain Lasso regression briefly in 1-2 lines."
      ]
    },
    {
      "cell_type": "markdown",
      "source": [
        "Lasso regression performs L1 regularization, i.e. it adds a factor of sum of absolute value of coefficients in the optimization objective. Thus, lasso regression optimizes the following:\n",
        "\n",
        "Objective = RSS + α * (sum of absolute value of coefficients)"
      ],
      "metadata": {
        "id": "8lSry0MZaejj"
      },
      "id": "8lSry0MZaejj"
    },
    {
      "cell_type": "markdown",
      "id": "popular-wonder",
      "metadata": {
        "id": "popular-wonder"
      },
      "source": [
        "2.3.2 Implement Lasso regression and make a table of different RMSE scores you achieved with different values of alpha. What does the parameter `alpha` do? How does it affect the results here? Explain in 5-10 lines in total."
      ]
    },
    {
      "cell_type": "markdown",
      "source": [
        "Here, α (alpha) works similar to that of ridge and provides a trade-off between balancing RSS and magnitude of coefficients. Like that of ridge, α can take various values. Lets iterate it here briefly:\n",
        "\n",
        "  \n",
        "α = 0: Same coefficients as simple linear regression\n",
        "  \n",
        "α = ∞: All coefficients zero (same logic as before)\n",
        "  \n",
        "0 < α < ∞: coefficients between 0 and that of simple linear regression"
      ],
      "metadata": {
        "id": "QQj3dmbxaspD"
      },
      "id": "QQj3dmbxaspD"
    },
    {
      "cell_type": "code",
      "execution_count": 15,
      "id": "extra-brighton",
      "metadata": {
        "id": "extra-brighton",
        "colab": {
          "base_uri": "https://localhost:8080/"
        },
        "outputId": "07b369b7-f824-45c8-9692-0eee5a260dc8"
      },
      "outputs": [
        {
          "output_type": "stream",
          "name": "stdout",
          "text": [
            "+---------+-----------+\n",
            "|   alpha |      RMSE |\n",
            "+=========+===========+\n",
            "|  0.0001 | 0.0724246 |\n",
            "+---------+-----------+\n",
            "|  0.001  | 0.0729727 |\n",
            "+---------+-----------+\n",
            "|  0.002  | 0.0735966 |\n",
            "+---------+-----------+\n",
            "|  0.01   | 0.0965951 |\n",
            "+---------+-----------+\n",
            "|  0.06   | 0.358885  |\n",
            "+---------+-----------+\n",
            "|  0.1    | 0.494604  |\n",
            "+---------+-----------+\n",
            "|  0.5    | 0.498805  |\n",
            "+---------+-----------+\n"
          ]
        }
      ],
      "source": [
        "# implement Lasso regression and make a table where you explore the effect of different values of `alpha`\n",
        "import sklearn\n",
        "from sklearn.linear_model import LinearRegression, Lasso\n",
        "from sklearn.metrics import mean_squared_error\n",
        "alphas = [0.0001,0.001, 0.002, 0.01, 0.06, 0.1,0.5]\n",
        "rmse = list()\n",
        "for a in alphas:\n",
        "  lassoModel = Lasso(alpha=a)\n",
        "  lassoModel.fit(x_train,y_train)\n",
        "  y_pred = lassoModel.predict(x_test)\n",
        "  rmse.append(np.sqrt(mean_squared_error(y_test,y_pred)))\n",
        "\n",
        "from tabulate import tabulate\n",
        "\n",
        "# assign data\n",
        "mydata = list()\n",
        "for a,rm in zip(alphas,rmse):\n",
        "  mydata.append((a,rm))\n",
        "# create header\n",
        "head = [\"alpha\", \"RMSE\"]\n",
        "  \n",
        "# display table\n",
        "print(tabulate(mydata, headers=head, tablefmt=\"grid\"))\n"
      ]
    },
    {
      "cell_type": "code",
      "execution_count": null,
      "id": "accompanied-worst",
      "metadata": {
        "id": "accompanied-worst"
      },
      "outputs": [],
      "source": [
        ""
      ]
    }
  ],
  "metadata": {
    "kernelspec": {
      "display_name": "Python 3",
      "language": "python",
      "name": "python3"
    },
    "language_info": {
      "codemirror_mode": {
        "name": "ipython",
        "version": 3
      },
      "file_extension": ".py",
      "mimetype": "text/x-python",
      "name": "python",
      "nbconvert_exporter": "python",
      "pygments_lexer": "ipython3",
      "version": "3.8.5"
    },
    "colab": {
      "name": "2021201023_Assignment2_Q2.ipynb",
      "provenance": [],
      "collapsed_sections": []
    }
  },
  "nbformat": 4,
  "nbformat_minor": 5
}